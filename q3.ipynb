{
 "cells": [
  {
   "cell_type": "markdown",
   "metadata": {},
   "source": [
    "# 1 -  Importing Libraries"
   ]
  },
  {
   "cell_type": "code",
   "execution_count": 1,
   "metadata": {},
   "outputs": [],
   "source": [
    "import pandas as pd\n",
    "import numpy as np\n",
    "import matplotlib.pyplot as plt\n",
    "import seaborn as sns\n",
    "\n",
    "plt.style.use('ggplot')\n",
    "import warnings\n",
    "warnings.filterwarnings(\"ignore\")"
   ]
  },
  {
   "cell_type": "markdown",
   "metadata": {},
   "source": [
    "# 2 - Load the data and Preprocessing"
   ]
  },
  {
   "cell_type": "code",
   "execution_count": 2,
   "metadata": {},
   "outputs": [],
   "source": [
    "df=pd.read_csv('Assessment Data2.csv')"
   ]
  },
  {
   "cell_type": "markdown",
   "metadata": {},
   "source": [
    "creating timestamps for the data"
   ]
  },
  {
   "cell_type": "code",
   "execution_count": 3,
   "metadata": {},
   "outputs": [],
   "source": [
    "df['Order_Date'] = pd.to_datetime(df['Order_Date'],format='mixed', errors='coerce')\n"
   ]
  },
  {
   "cell_type": "code",
   "execution_count": 4,
   "metadata": {},
   "outputs": [
    {
     "data": {
      "text/plain": [
       "Order_ID              object\n",
       "Order_Date    datetime64[ns]\n",
       "Product_ID            object\n",
       "Quantity               int64\n",
       "dtype: object"
      ]
     },
     "execution_count": 4,
     "metadata": {},
     "output_type": "execute_result"
    }
   ],
   "source": [
    "df.dtypes"
   ]
  },
  {
   "cell_type": "code",
   "execution_count": 5,
   "metadata": {},
   "outputs": [],
   "source": [
    "df = df.sort_values(by='Order_Date')"
   ]
  },
  {
   "cell_type": "code",
   "execution_count": 6,
   "metadata": {},
   "outputs": [
    {
     "data": {
      "text/plain": [
       "(3632365, 4)"
      ]
     },
     "execution_count": 6,
     "metadata": {},
     "output_type": "execute_result"
    }
   ],
   "source": [
    "df.shape"
   ]
  },
  {
   "cell_type": "code",
   "execution_count": 7,
   "metadata": {},
   "outputs": [
    {
     "data": {
      "text/html": [
       "<div>\n",
       "<style scoped>\n",
       "    .dataframe tbody tr th:only-of-type {\n",
       "        vertical-align: middle;\n",
       "    }\n",
       "\n",
       "    .dataframe tbody tr th {\n",
       "        vertical-align: top;\n",
       "    }\n",
       "\n",
       "    .dataframe thead th {\n",
       "        text-align: right;\n",
       "    }\n",
       "</style>\n",
       "<table border=\"1\" class=\"dataframe\">\n",
       "  <thead>\n",
       "    <tr style=\"text-align: right;\">\n",
       "      <th></th>\n",
       "      <th>Order_ID</th>\n",
       "      <th>Order_Date</th>\n",
       "      <th>Product_ID</th>\n",
       "      <th>Quantity</th>\n",
       "    </tr>\n",
       "  </thead>\n",
       "  <tbody>\n",
       "    <tr>\n",
       "      <th>3595162</th>\n",
       "      <td>Order 1</td>\n",
       "      <td>2001-01-01 00:00:57</td>\n",
       "      <td>0794070</td>\n",
       "      <td>4</td>\n",
       "    </tr>\n",
       "    <tr>\n",
       "      <th>3595161</th>\n",
       "      <td>Order 1</td>\n",
       "      <td>2001-01-01 00:00:57</td>\n",
       "      <td>T87K1007</td>\n",
       "      <td>20</td>\n",
       "    </tr>\n",
       "    <tr>\n",
       "      <th>3595165</th>\n",
       "      <td>Order 2</td>\n",
       "      <td>2001-01-01 00:07:43</td>\n",
       "      <td>427-015</td>\n",
       "      <td>6</td>\n",
       "    </tr>\n",
       "    <tr>\n",
       "      <th>3595164</th>\n",
       "      <td>Order 2</td>\n",
       "      <td>2001-01-01 00:07:43</td>\n",
       "      <td>427-020</td>\n",
       "      <td>20</td>\n",
       "    </tr>\n",
       "    <tr>\n",
       "      <th>3595163</th>\n",
       "      <td>Order 2</td>\n",
       "      <td>2001-01-01 00:07:43</td>\n",
       "      <td>429-420</td>\n",
       "      <td>2</td>\n",
       "    </tr>\n",
       "  </tbody>\n",
       "</table>\n",
       "</div>"
      ],
      "text/plain": [
       "        Order_ID          Order_Date Product_ID  Quantity\n",
       "3595162  Order 1 2001-01-01 00:00:57    0794070         4\n",
       "3595161  Order 1 2001-01-01 00:00:57   T87K1007        20\n",
       "3595165  Order 2 2001-01-01 00:07:43    427-015         6\n",
       "3595164  Order 2 2001-01-01 00:07:43    427-020        20\n",
       "3595163  Order 2 2001-01-01 00:07:43    429-420         2"
      ]
     },
     "execution_count": 7,
     "metadata": {},
     "output_type": "execute_result"
    }
   ],
   "source": [
    "df.head()"
   ]
  },
  {
   "cell_type": "code",
   "execution_count": 8,
   "metadata": {},
   "outputs": [],
   "source": [
    "df = df.dropna(subset=['Order_Date'])\n"
   ]
  },
  {
   "cell_type": "code",
   "execution_count": 9,
   "metadata": {},
   "outputs": [
    {
     "data": {
      "text/html": [
       "<div>\n",
       "<style scoped>\n",
       "    .dataframe tbody tr th:only-of-type {\n",
       "        vertical-align: middle;\n",
       "    }\n",
       "\n",
       "    .dataframe tbody tr th {\n",
       "        vertical-align: top;\n",
       "    }\n",
       "\n",
       "    .dataframe thead th {\n",
       "        text-align: right;\n",
       "    }\n",
       "</style>\n",
       "<table border=\"1\" class=\"dataframe\">\n",
       "  <thead>\n",
       "    <tr style=\"text-align: right;\">\n",
       "      <th></th>\n",
       "      <th>Order_ID</th>\n",
       "      <th>Order_Date</th>\n",
       "      <th>Product_ID</th>\n",
       "      <th>Quantity</th>\n",
       "    </tr>\n",
       "  </thead>\n",
       "  <tbody>\n",
       "    <tr>\n",
       "      <th>3595129</th>\n",
       "      <td>Order 1204955</td>\n",
       "      <td>2003-12-31 23:46:52</td>\n",
       "      <td>R7284U1004</td>\n",
       "      <td>2</td>\n",
       "    </tr>\n",
       "    <tr>\n",
       "      <th>3595134</th>\n",
       "      <td>Order 1204955</td>\n",
       "      <td>2003-12-31 23:46:52</td>\n",
       "      <td>PFQ806</td>\n",
       "      <td>2</td>\n",
       "    </tr>\n",
       "    <tr>\n",
       "      <th>3595136</th>\n",
       "      <td>Order 1204955</td>\n",
       "      <td>2003-12-31 23:46:52</td>\n",
       "      <td>0330029604</td>\n",
       "      <td>2</td>\n",
       "    </tr>\n",
       "    <tr>\n",
       "      <th>3595122</th>\n",
       "      <td>Order 1204956</td>\n",
       "      <td>2003-12-31 23:54:30</td>\n",
       "      <td>AT72D1188</td>\n",
       "      <td>2</td>\n",
       "    </tr>\n",
       "    <tr>\n",
       "      <th>3595121</th>\n",
       "      <td>Order 1204956</td>\n",
       "      <td>2003-12-31 23:54:30</td>\n",
       "      <td>T410B1004</td>\n",
       "      <td>14</td>\n",
       "    </tr>\n",
       "  </tbody>\n",
       "</table>\n",
       "</div>"
      ],
      "text/plain": [
       "              Order_ID          Order_Date  Product_ID  Quantity\n",
       "3595129  Order 1204955 2003-12-31 23:46:52  R7284U1004         2\n",
       "3595134  Order 1204955 2003-12-31 23:46:52      PFQ806         2\n",
       "3595136  Order 1204955 2003-12-31 23:46:52  0330029604         2\n",
       "3595122  Order 1204956 2003-12-31 23:54:30   AT72D1188         2\n",
       "3595121  Order 1204956 2003-12-31 23:54:30   T410B1004        14"
      ]
     },
     "execution_count": 9,
     "metadata": {},
     "output_type": "execute_result"
    }
   ],
   "source": [
    "df.tail()"
   ]
  },
  {
   "cell_type": "markdown",
   "metadata": {},
   "source": [
    "creating line items based on instructions"
   ]
  },
  {
   "cell_type": "code",
   "execution_count": 10,
   "metadata": {},
   "outputs": [],
   "source": [
    "def create_line_item_id(row):\n",
    "  return f\"{row['Order_ID']}_{row['Product_ID']}\"\n"
   ]
  },
  {
   "cell_type": "code",
   "execution_count": 11,
   "metadata": {},
   "outputs": [],
   "source": [
    "df['Line_Item_ID'] = df.apply(create_line_item_id, axis=1)"
   ]
  },
  {
   "cell_type": "code",
   "execution_count": 12,
   "metadata": {},
   "outputs": [
    {
     "data": {
      "text/plain": [
       "(3626767, 5)"
      ]
     },
     "execution_count": 12,
     "metadata": {},
     "output_type": "execute_result"
    }
   ],
   "source": [
    "df.shape"
   ]
  },
  {
   "cell_type": "markdown",
   "metadata": {},
   "source": [
    "creating aggregation logic for handling other columns"
   ]
  },
  {
   "cell_type": "code",
   "execution_count": 13,
   "metadata": {},
   "outputs": [],
   "source": [
    "grouped_df = df.groupby('Line_Item_ID').agg({\n",
    "    'Order_ID': 'first',          \n",
    "    'Order_Date': 'max',          \n",
    "    'Product_ID': 'first',        \n",
    "    'Quantity': 'sum'\n",
    "}).reset_index()"
   ]
  },
  {
   "cell_type": "code",
   "execution_count": 14,
   "metadata": {},
   "outputs": [
    {
     "data": {
      "text/plain": [
       "(3577560, 5)"
      ]
     },
     "execution_count": 14,
     "metadata": {},
     "output_type": "execute_result"
    }
   ],
   "source": [
    "grouped_df.shape"
   ]
  },
  {
   "cell_type": "markdown",
   "metadata": {},
   "source": [
    "visualizing the data set"
   ]
  },
  {
   "cell_type": "code",
   "execution_count": 15,
   "metadata": {},
   "outputs": [
    {
     "data": {
      "text/html": [
       "<div>\n",
       "<style scoped>\n",
       "    .dataframe tbody tr th:only-of-type {\n",
       "        vertical-align: middle;\n",
       "    }\n",
       "\n",
       "    .dataframe tbody tr th {\n",
       "        vertical-align: top;\n",
       "    }\n",
       "\n",
       "    .dataframe thead th {\n",
       "        text-align: right;\n",
       "    }\n",
       "</style>\n",
       "<table border=\"1\" class=\"dataframe\">\n",
       "  <thead>\n",
       "    <tr style=\"text-align: right;\">\n",
       "      <th></th>\n",
       "      <th>Line_Item_ID</th>\n",
       "      <th>Order_ID</th>\n",
       "      <th>Order_Date</th>\n",
       "      <th>Product_ID</th>\n",
       "      <th>Quantity</th>\n",
       "    </tr>\n",
       "  </thead>\n",
       "  <tbody>\n",
       "    <tr>\n",
       "      <th>0</th>\n",
       "      <td>Order 1000000_0004650</td>\n",
       "      <td>Order 1000000</td>\n",
       "      <td>2003-09-14 17:05:06</td>\n",
       "      <td>0004650</td>\n",
       "      <td>2</td>\n",
       "    </tr>\n",
       "    <tr>\n",
       "      <th>1</th>\n",
       "      <td>Order 1000001_86627</td>\n",
       "      <td>Order 1000001</td>\n",
       "      <td>2003-09-14 17:05:39</td>\n",
       "      <td>86627</td>\n",
       "      <td>2</td>\n",
       "    </tr>\n",
       "    <tr>\n",
       "      <th>2</th>\n",
       "      <td>Order 1000002_632X263</td>\n",
       "      <td>Order 1000002</td>\n",
       "      <td>2003-09-14 17:05:41</td>\n",
       "      <td>632X263</td>\n",
       "      <td>50</td>\n",
       "    </tr>\n",
       "    <tr>\n",
       "      <th>3</th>\n",
       "      <td>Order 1000002_838-247C</td>\n",
       "      <td>Order 1000002</td>\n",
       "      <td>2003-09-14 17:05:41</td>\n",
       "      <td>838-247C</td>\n",
       "      <td>2</td>\n",
       "    </tr>\n",
       "    <tr>\n",
       "      <th>4</th>\n",
       "      <td>Order 1000002_882-020</td>\n",
       "      <td>Order 1000002</td>\n",
       "      <td>2003-09-14 17:05:41</td>\n",
       "      <td>882-020</td>\n",
       "      <td>2</td>\n",
       "    </tr>\n",
       "  </tbody>\n",
       "</table>\n",
       "</div>"
      ],
      "text/plain": [
       "             Line_Item_ID       Order_ID          Order_Date Product_ID  \\\n",
       "0   Order 1000000_0004650  Order 1000000 2003-09-14 17:05:06    0004650   \n",
       "1     Order 1000001_86627  Order 1000001 2003-09-14 17:05:39      86627   \n",
       "2   Order 1000002_632X263  Order 1000002 2003-09-14 17:05:41    632X263   \n",
       "3  Order 1000002_838-247C  Order 1000002 2003-09-14 17:05:41   838-247C   \n",
       "4   Order 1000002_882-020  Order 1000002 2003-09-14 17:05:41    882-020   \n",
       "\n",
       "   Quantity  \n",
       "0         2  \n",
       "1         2  \n",
       "2        50  \n",
       "3         2  \n",
       "4         2  "
      ]
     },
     "execution_count": 15,
     "metadata": {},
     "output_type": "execute_result"
    }
   ],
   "source": [
    "grouped_df.head()"
   ]
  },
  {
   "cell_type": "code",
   "execution_count": 16,
   "metadata": {},
   "outputs": [],
   "source": [
    "grouped_df = grouped_df.sort_values(by='Order_Date')"
   ]
  },
  {
   "cell_type": "code",
   "execution_count": 17,
   "metadata": {},
   "outputs": [
    {
     "data": {
      "text/html": [
       "<div>\n",
       "<style scoped>\n",
       "    .dataframe tbody tr th:only-of-type {\n",
       "        vertical-align: middle;\n",
       "    }\n",
       "\n",
       "    .dataframe tbody tr th {\n",
       "        vertical-align: top;\n",
       "    }\n",
       "\n",
       "    .dataframe thead th {\n",
       "        text-align: right;\n",
       "    }\n",
       "</style>\n",
       "<table border=\"1\" class=\"dataframe\">\n",
       "  <thead>\n",
       "    <tr style=\"text-align: right;\">\n",
       "      <th></th>\n",
       "      <th>Line_Item_ID</th>\n",
       "      <th>Order_ID</th>\n",
       "      <th>Order_Date</th>\n",
       "      <th>Product_ID</th>\n",
       "      <th>Quantity</th>\n",
       "    </tr>\n",
       "  </thead>\n",
       "  <tbody>\n",
       "    <tr>\n",
       "      <th>921258</th>\n",
       "      <td>Order 1_0794070</td>\n",
       "      <td>Order 1</td>\n",
       "      <td>2001-01-01 00:00:57</td>\n",
       "      <td>0794070</td>\n",
       "      <td>4</td>\n",
       "    </tr>\n",
       "    <tr>\n",
       "      <th>921259</th>\n",
       "      <td>Order 1_T87K1007</td>\n",
       "      <td>Order 1</td>\n",
       "      <td>2001-01-01 00:00:57</td>\n",
       "      <td>T87K1007</td>\n",
       "      <td>20</td>\n",
       "    </tr>\n",
       "    <tr>\n",
       "      <th>1258749</th>\n",
       "      <td>Order 2_427-015</td>\n",
       "      <td>Order 2</td>\n",
       "      <td>2001-01-01 00:07:43</td>\n",
       "      <td>427-015</td>\n",
       "      <td>6</td>\n",
       "    </tr>\n",
       "    <tr>\n",
       "      <th>1258750</th>\n",
       "      <td>Order 2_427-020</td>\n",
       "      <td>Order 2</td>\n",
       "      <td>2001-01-01 00:07:43</td>\n",
       "      <td>427-020</td>\n",
       "      <td>20</td>\n",
       "    </tr>\n",
       "    <tr>\n",
       "      <th>1258751</th>\n",
       "      <td>Order 2_429-420</td>\n",
       "      <td>Order 2</td>\n",
       "      <td>2001-01-01 00:07:43</td>\n",
       "      <td>429-420</td>\n",
       "      <td>2</td>\n",
       "    </tr>\n",
       "  </tbody>\n",
       "</table>\n",
       "</div>"
      ],
      "text/plain": [
       "             Line_Item_ID Order_ID          Order_Date Product_ID  Quantity\n",
       "921258    Order 1_0794070  Order 1 2001-01-01 00:00:57    0794070         4\n",
       "921259   Order 1_T87K1007  Order 1 2001-01-01 00:00:57   T87K1007        20\n",
       "1258749   Order 2_427-015  Order 2 2001-01-01 00:07:43    427-015         6\n",
       "1258750   Order 2_427-020  Order 2 2001-01-01 00:07:43    427-020        20\n",
       "1258751   Order 2_429-420  Order 2 2001-01-01 00:07:43    429-420         2"
      ]
     },
     "execution_count": 17,
     "metadata": {},
     "output_type": "execute_result"
    }
   ],
   "source": [
    "grouped_df.head()"
   ]
  },
  {
   "cell_type": "code",
   "execution_count": 18,
   "metadata": {},
   "outputs": [],
   "source": [
    "new_df = grouped_df.reset_index()"
   ]
  },
  {
   "cell_type": "code",
   "execution_count": 19,
   "metadata": {},
   "outputs": [
    {
     "data": {
      "text/plain": [
       "index                    int64\n",
       "Line_Item_ID            object\n",
       "Order_ID                object\n",
       "Order_Date      datetime64[ns]\n",
       "Product_ID              object\n",
       "Quantity                 int64\n",
       "dtype: object"
      ]
     },
     "execution_count": 19,
     "metadata": {},
     "output_type": "execute_result"
    }
   ],
   "source": [
    "new_df.dtypes"
   ]
  },
  {
   "cell_type": "code",
   "execution_count": 20,
   "metadata": {},
   "outputs": [],
   "source": [
    "new_df.drop(columns='index',inplace=True)\n",
    "new_df.rename(columns={'level_0':'Index'},inplace=True)\n"
   ]
  },
  {
   "cell_type": "code",
   "execution_count": 21,
   "metadata": {},
   "outputs": [
    {
     "data": {
      "text/html": [
       "<div>\n",
       "<style scoped>\n",
       "    .dataframe tbody tr th:only-of-type {\n",
       "        vertical-align: middle;\n",
       "    }\n",
       "\n",
       "    .dataframe tbody tr th {\n",
       "        vertical-align: top;\n",
       "    }\n",
       "\n",
       "    .dataframe thead th {\n",
       "        text-align: right;\n",
       "    }\n",
       "</style>\n",
       "<table border=\"1\" class=\"dataframe\">\n",
       "  <thead>\n",
       "    <tr style=\"text-align: right;\">\n",
       "      <th></th>\n",
       "      <th>Line_Item_ID</th>\n",
       "      <th>Order_ID</th>\n",
       "      <th>Order_Date</th>\n",
       "      <th>Product_ID</th>\n",
       "      <th>Quantity</th>\n",
       "    </tr>\n",
       "  </thead>\n",
       "  <tbody>\n",
       "    <tr>\n",
       "      <th>0</th>\n",
       "      <td>Order 1_0794070</td>\n",
       "      <td>Order 1</td>\n",
       "      <td>2001-01-01 00:00:57</td>\n",
       "      <td>0794070</td>\n",
       "      <td>4</td>\n",
       "    </tr>\n",
       "    <tr>\n",
       "      <th>1</th>\n",
       "      <td>Order 1_T87K1007</td>\n",
       "      <td>Order 1</td>\n",
       "      <td>2001-01-01 00:00:57</td>\n",
       "      <td>T87K1007</td>\n",
       "      <td>20</td>\n",
       "    </tr>\n",
       "    <tr>\n",
       "      <th>2</th>\n",
       "      <td>Order 2_427-015</td>\n",
       "      <td>Order 2</td>\n",
       "      <td>2001-01-01 00:07:43</td>\n",
       "      <td>427-015</td>\n",
       "      <td>6</td>\n",
       "    </tr>\n",
       "    <tr>\n",
       "      <th>3</th>\n",
       "      <td>Order 2_427-020</td>\n",
       "      <td>Order 2</td>\n",
       "      <td>2001-01-01 00:07:43</td>\n",
       "      <td>427-020</td>\n",
       "      <td>20</td>\n",
       "    </tr>\n",
       "    <tr>\n",
       "      <th>4</th>\n",
       "      <td>Order 2_429-420</td>\n",
       "      <td>Order 2</td>\n",
       "      <td>2001-01-01 00:07:43</td>\n",
       "      <td>429-420</td>\n",
       "      <td>2</td>\n",
       "    </tr>\n",
       "  </tbody>\n",
       "</table>\n",
       "</div>"
      ],
      "text/plain": [
       "       Line_Item_ID Order_ID          Order_Date Product_ID  Quantity\n",
       "0   Order 1_0794070  Order 1 2001-01-01 00:00:57    0794070         4\n",
       "1  Order 1_T87K1007  Order 1 2001-01-01 00:00:57   T87K1007        20\n",
       "2   Order 2_427-015  Order 2 2001-01-01 00:07:43    427-015         6\n",
       "3   Order 2_427-020  Order 2 2001-01-01 00:07:43    427-020        20\n",
       "4   Order 2_429-420  Order 2 2001-01-01 00:07:43    429-420         2"
      ]
     },
     "execution_count": 21,
     "metadata": {},
     "output_type": "execute_result"
    }
   ],
   "source": [
    "new_df.head()"
   ]
  },
  {
   "cell_type": "code",
   "execution_count": 22,
   "metadata": {},
   "outputs": [
    {
     "data": {
      "text/html": [
       "<div>\n",
       "<style scoped>\n",
       "    .dataframe tbody tr th:only-of-type {\n",
       "        vertical-align: middle;\n",
       "    }\n",
       "\n",
       "    .dataframe tbody tr th {\n",
       "        vertical-align: top;\n",
       "    }\n",
       "\n",
       "    .dataframe thead th {\n",
       "        text-align: right;\n",
       "    }\n",
       "</style>\n",
       "<table border=\"1\" class=\"dataframe\">\n",
       "  <thead>\n",
       "    <tr style=\"text-align: right;\">\n",
       "      <th></th>\n",
       "      <th>Line_Item_ID</th>\n",
       "      <th>Order_ID</th>\n",
       "      <th>Order_Date</th>\n",
       "      <th>Product_ID</th>\n",
       "      <th>Quantity</th>\n",
       "    </tr>\n",
       "  </thead>\n",
       "  <tbody>\n",
       "    <tr>\n",
       "      <th>3577555</th>\n",
       "      <td>Order 1204955_PFQ806</td>\n",
       "      <td>Order 1204955</td>\n",
       "      <td>2003-12-31 23:46:52</td>\n",
       "      <td>PFQ806</td>\n",
       "      <td>2</td>\n",
       "    </tr>\n",
       "    <tr>\n",
       "      <th>3577556</th>\n",
       "      <td>Order 1204955_R7284U1004</td>\n",
       "      <td>Order 1204955</td>\n",
       "      <td>2003-12-31 23:46:52</td>\n",
       "      <td>R7284U1004</td>\n",
       "      <td>2</td>\n",
       "    </tr>\n",
       "    <tr>\n",
       "      <th>3577557</th>\n",
       "      <td>Order 1204955_0330032806</td>\n",
       "      <td>Order 1204955</td>\n",
       "      <td>2003-12-31 23:46:52</td>\n",
       "      <td>0330032806</td>\n",
       "      <td>2</td>\n",
       "    </tr>\n",
       "    <tr>\n",
       "      <th>3577558</th>\n",
       "      <td>Order 1204956_AT72D1188</td>\n",
       "      <td>Order 1204956</td>\n",
       "      <td>2003-12-31 23:54:30</td>\n",
       "      <td>AT72D1188</td>\n",
       "      <td>2</td>\n",
       "    </tr>\n",
       "    <tr>\n",
       "      <th>3577559</th>\n",
       "      <td>Order 1204956_T410B1004</td>\n",
       "      <td>Order 1204956</td>\n",
       "      <td>2003-12-31 23:54:30</td>\n",
       "      <td>T410B1004</td>\n",
       "      <td>14</td>\n",
       "    </tr>\n",
       "  </tbody>\n",
       "</table>\n",
       "</div>"
      ],
      "text/plain": [
       "                     Line_Item_ID       Order_ID          Order_Date  \\\n",
       "3577555      Order 1204955_PFQ806  Order 1204955 2003-12-31 23:46:52   \n",
       "3577556  Order 1204955_R7284U1004  Order 1204955 2003-12-31 23:46:52   \n",
       "3577557  Order 1204955_0330032806  Order 1204955 2003-12-31 23:46:52   \n",
       "3577558   Order 1204956_AT72D1188  Order 1204956 2003-12-31 23:54:30   \n",
       "3577559   Order 1204956_T410B1004  Order 1204956 2003-12-31 23:54:30   \n",
       "\n",
       "         Product_ID  Quantity  \n",
       "3577555      PFQ806         2  \n",
       "3577556  R7284U1004         2  \n",
       "3577557  0330032806         2  \n",
       "3577558   AT72D1188         2  \n",
       "3577559   T410B1004        14  "
      ]
     },
     "execution_count": 22,
     "metadata": {},
     "output_type": "execute_result"
    }
   ],
   "source": [
    "new_df.tail()"
   ]
  },
  {
   "cell_type": "code",
   "execution_count": 23,
   "metadata": {},
   "outputs": [
    {
     "data": {
      "text/plain": [
       "Product_ID\n",
       "Q4690512      14808\n",
       "H000500LF     13120\n",
       "Q4690756      11602\n",
       "H000750LF     11360\n",
       "HCRIMP05      10620\n",
       "              ...  \n",
       "9009127005        1\n",
       "KT63ZZ118         1\n",
       "4101-227          1\n",
       "331H              1\n",
       "5VX550            1\n",
       "Name: count, Length: 63244, dtype: int64"
      ]
     },
     "execution_count": 23,
     "metadata": {},
     "output_type": "execute_result"
    }
   ],
   "source": [
    "new_df['Product_ID'].value_counts()"
   ]
  },
  {
   "cell_type": "markdown",
   "metadata": {},
   "source": [
    "there are 63244 different items sold"
   ]
  },
  {
   "cell_type": "code",
   "execution_count": 24,
   "metadata": {},
   "outputs": [
    {
     "data": {
      "text/html": [
       "<div>\n",
       "<style scoped>\n",
       "    .dataframe tbody tr th:only-of-type {\n",
       "        vertical-align: middle;\n",
       "    }\n",
       "\n",
       "    .dataframe tbody tr th {\n",
       "        vertical-align: top;\n",
       "    }\n",
       "\n",
       "    .dataframe thead th {\n",
       "        text-align: right;\n",
       "    }\n",
       "</style>\n",
       "<table border=\"1\" class=\"dataframe\">\n",
       "  <thead>\n",
       "    <tr style=\"text-align: right;\">\n",
       "      <th></th>\n",
       "      <th>Line_Item_ID</th>\n",
       "      <th>Order_ID</th>\n",
       "      <th>Order_Date</th>\n",
       "      <th>Product_ID</th>\n",
       "      <th>Quantity</th>\n",
       "    </tr>\n",
       "  </thead>\n",
       "  <tbody>\n",
       "    <tr>\n",
       "      <th>0</th>\n",
       "      <td>Order 1_0794070</td>\n",
       "      <td>Order 1</td>\n",
       "      <td>2001-01-01 00:00:57</td>\n",
       "      <td>0794070</td>\n",
       "      <td>4</td>\n",
       "    </tr>\n",
       "    <tr>\n",
       "      <th>1</th>\n",
       "      <td>Order 1_T87K1007</td>\n",
       "      <td>Order 1</td>\n",
       "      <td>2001-01-01 00:00:57</td>\n",
       "      <td>T87K1007</td>\n",
       "      <td>20</td>\n",
       "    </tr>\n",
       "    <tr>\n",
       "      <th>2</th>\n",
       "      <td>Order 2_427-015</td>\n",
       "      <td>Order 2</td>\n",
       "      <td>2001-01-01 00:07:43</td>\n",
       "      <td>427-015</td>\n",
       "      <td>6</td>\n",
       "    </tr>\n",
       "    <tr>\n",
       "      <th>3</th>\n",
       "      <td>Order 2_427-020</td>\n",
       "      <td>Order 2</td>\n",
       "      <td>2001-01-01 00:07:43</td>\n",
       "      <td>427-020</td>\n",
       "      <td>20</td>\n",
       "    </tr>\n",
       "    <tr>\n",
       "      <th>4</th>\n",
       "      <td>Order 2_429-420</td>\n",
       "      <td>Order 2</td>\n",
       "      <td>2001-01-01 00:07:43</td>\n",
       "      <td>429-420</td>\n",
       "      <td>2</td>\n",
       "    </tr>\n",
       "  </tbody>\n",
       "</table>\n",
       "</div>"
      ],
      "text/plain": [
       "       Line_Item_ID Order_ID          Order_Date Product_ID  Quantity\n",
       "0   Order 1_0794070  Order 1 2001-01-01 00:00:57    0794070         4\n",
       "1  Order 1_T87K1007  Order 1 2001-01-01 00:00:57   T87K1007        20\n",
       "2   Order 2_427-015  Order 2 2001-01-01 00:07:43    427-015         6\n",
       "3   Order 2_427-020  Order 2 2001-01-01 00:07:43    427-020        20\n",
       "4   Order 2_429-420  Order 2 2001-01-01 00:07:43    429-420         2"
      ]
     },
     "execution_count": 24,
     "metadata": {},
     "output_type": "execute_result"
    }
   ],
   "source": [
    "new_df.head()"
   ]
  },
  {
   "cell_type": "markdown",
   "metadata": {},
   "source": [
    "Checkin for outliers:"
   ]
  },
  {
   "cell_type": "code",
   "execution_count": 25,
   "metadata": {},
   "outputs": [
    {
     "data": {
      "text/plain": [
       "count    3.577560e+06\n",
       "mean     1.853519e+01\n",
       "std      1.111486e+02\n",
       "min      2.000000e+00\n",
       "25%      2.000000e+00\n",
       "50%      4.000000e+00\n",
       "75%      1.200000e+01\n",
       "max      8.000000e+04\n",
       "Name: Quantity, dtype: float64"
      ]
     },
     "execution_count": 25,
     "metadata": {},
     "output_type": "execute_result"
    }
   ],
   "source": [
    "new_df['Quantity'].describe()"
   ]
  },
  {
   "cell_type": "code",
   "execution_count": 31,
   "metadata": {},
   "outputs": [
    {
     "data": {
      "image/png": "[encoded data removed]",
      "text/plain": [
       "<Figure size 640x480 with 1 Axes>"
      ]
     },
     "metadata": {},
     "output_type": "display_data"
    }
   ],
   "source": [
    "new_df['Quantity'].plot(kind='box')\n",
    "plt.show()"
   ]
  },
  {
   "cell_type": "markdown",
   "metadata": {},
   "source": [
    "Using IQR, we can see that std is very large, and altho mean and median are relatively close, max is 8000. so this suggest the occurence of outliers which could skew the data and we can confirm this using the box plot. "
   ]
  },
  {
   "cell_type": "code",
   "execution_count": 32,
   "metadata": {},
   "outputs": [],
   "source": [
    "from scipy import stats\n",
    "outliers = new_df[np.abs(stats.zscore(new_df['Quantity'])) >= 3]"
   ]
  },
  {
   "cell_type": "code",
   "execution_count": 33,
   "metadata": {},
   "outputs": [
    {
     "data": {
      "text/html": [
       "<div>\n",
       "<style scoped>\n",
       "    .dataframe tbody tr th:only-of-type {\n",
       "        vertical-align: middle;\n",
       "    }\n",
       "\n",
       "    .dataframe tbody tr th {\n",
       "        vertical-align: top;\n",
       "    }\n",
       "\n",
       "    .dataframe thead th {\n",
       "        text-align: right;\n",
       "    }\n",
       "</style>\n",
       "<table border=\"1\" class=\"dataframe\">\n",
       "  <thead>\n",
       "    <tr style=\"text-align: right;\">\n",
       "      <th></th>\n",
       "      <th>Line_Item_ID</th>\n",
       "      <th>Order_ID</th>\n",
       "      <th>Order_Date</th>\n",
       "      <th>Product_ID</th>\n",
       "      <th>Quantity</th>\n",
       "    </tr>\n",
       "  </thead>\n",
       "  <tbody>\n",
       "    <tr>\n",
       "      <th>541</th>\n",
       "      <td>Order 161_HCRIMP05</td>\n",
       "      <td>Order 161</td>\n",
       "      <td>2001-01-01 13:44:47</td>\n",
       "      <td>HCRIMP05</td>\n",
       "      <td>600</td>\n",
       "    </tr>\n",
       "    <tr>\n",
       "      <th>542</th>\n",
       "      <td>Order 161_HCRIMP07</td>\n",
       "      <td>Order 161</td>\n",
       "      <td>2001-01-01 13:44:47</td>\n",
       "      <td>HCRIMP07</td>\n",
       "      <td>400</td>\n",
       "    </tr>\n",
       "    <tr>\n",
       "      <th>911</th>\n",
       "      <td>Order 286_HCRIMP05</td>\n",
       "      <td>Order 286</td>\n",
       "      <td>2001-01-01 17:08:33</td>\n",
       "      <td>HCRIMP05</td>\n",
       "      <td>2000</td>\n",
       "    </tr>\n",
       "    <tr>\n",
       "      <th>1230</th>\n",
       "      <td>Order 404_WP7-08</td>\n",
       "      <td>Order 404</td>\n",
       "      <td>2001-01-01 20:20:27</td>\n",
       "      <td>WP7-08</td>\n",
       "      <td>800</td>\n",
       "    </tr>\n",
       "    <tr>\n",
       "      <th>1236</th>\n",
       "      <td>Order 404_WPT-08</td>\n",
       "      <td>Order 404</td>\n",
       "      <td>2001-01-01 20:20:27</td>\n",
       "      <td>WPT-08</td>\n",
       "      <td>400</td>\n",
       "    </tr>\n",
       "    <tr>\n",
       "      <th>...</th>\n",
       "      <td>...</td>\n",
       "      <td>...</td>\n",
       "      <td>...</td>\n",
       "      <td>...</td>\n",
       "      <td>...</td>\n",
       "    </tr>\n",
       "    <tr>\n",
       "      <th>3576666</th>\n",
       "      <td>Order 1204676_EPCR0012</td>\n",
       "      <td>Order 1204676</td>\n",
       "      <td>2003-12-31 17:10:42</td>\n",
       "      <td>EPCR0012</td>\n",
       "      <td>800</td>\n",
       "    </tr>\n",
       "    <tr>\n",
       "      <th>3576745</th>\n",
       "      <td>Order 1204697_Q4690512</td>\n",
       "      <td>Order 1204697</td>\n",
       "      <td>2003-12-31 17:26:50</td>\n",
       "      <td>Q4690512</td>\n",
       "      <td>400</td>\n",
       "    </tr>\n",
       "    <tr>\n",
       "      <th>3576840</th>\n",
       "      <td>Order 1204734_31272</td>\n",
       "      <td>Order 1204734</td>\n",
       "      <td>2003-12-31 17:57:16</td>\n",
       "      <td>31272</td>\n",
       "      <td>400</td>\n",
       "    </tr>\n",
       "    <tr>\n",
       "      <th>3576949</th>\n",
       "      <td>Order 1204773_Q4690512</td>\n",
       "      <td>Order 1204773</td>\n",
       "      <td>2003-12-31 18:46:18</td>\n",
       "      <td>Q4690512</td>\n",
       "      <td>400</td>\n",
       "    </tr>\n",
       "    <tr>\n",
       "      <th>3577271</th>\n",
       "      <td>Order 1204889_11B0050</td>\n",
       "      <td>Order 1204889</td>\n",
       "      <td>2003-12-31 21:25:34</td>\n",
       "      <td>11B0050</td>\n",
       "      <td>800</td>\n",
       "    </tr>\n",
       "  </tbody>\n",
       "</table>\n",
       "<p>19132 rows × 5 columns</p>\n",
       "</div>"
      ],
      "text/plain": [
       "                   Line_Item_ID       Order_ID          Order_Date Product_ID  \\\n",
       "541          Order 161_HCRIMP05      Order 161 2001-01-01 13:44:47   HCRIMP05   \n",
       "542          Order 161_HCRIMP07      Order 161 2001-01-01 13:44:47   HCRIMP07   \n",
       "911          Order 286_HCRIMP05      Order 286 2001-01-01 17:08:33   HCRIMP05   \n",
       "1230           Order 404_WP7-08      Order 404 2001-01-01 20:20:27     WP7-08   \n",
       "1236           Order 404_WPT-08      Order 404 2001-01-01 20:20:27     WPT-08   \n",
       "...                         ...            ...                 ...        ...   \n",
       "3576666  Order 1204676_EPCR0012  Order 1204676 2003-12-31 17:10:42   EPCR0012   \n",
       "3576745  Order 1204697_Q4690512  Order 1204697 2003-12-31 17:26:50   Q4690512   \n",
       "3576840     Order 1204734_31272  Order 1204734 2003-12-31 17:57:16      31272   \n",
       "3576949  Order 1204773_Q4690512  Order 1204773 2003-12-31 18:46:18   Q4690512   \n",
       "3577271   Order 1204889_11B0050  Order 1204889 2003-12-31 21:25:34    11B0050   \n",
       "\n",
       "         Quantity  \n",
       "541           600  \n",
       "542           400  \n",
       "911          2000  \n",
       "1230          800  \n",
       "1236          400  \n",
       "...           ...  \n",
       "3576666       800  \n",
       "3576745       400  \n",
       "3576840       400  \n",
       "3576949       400  \n",
       "3577271       800  \n",
       "\n",
       "[19132 rows x 5 columns]"
      ]
     },
     "execution_count": 33,
     "metadata": {},
     "output_type": "execute_result"
    }
   ],
   "source": [
    "outliers"
   ]
  },
  {
   "cell_type": "markdown",
   "metadata": {},
   "source": [
    "As observed, our dataset contains **outliers** which represent large orders. Due to the valuable insights these data points provide, we must handle them carefully. Dropping these observations is not an option, so we will explore alternative methods:\n",
    "\n",
    "**Transformation:** \n",
    "    \n",
    "Applying a mathematical function, such as logarithmic transformation, to the 'quantity' column can help reduce the impact of outliers. This approach allows us to maintain the outliers in the dataset while mitigating their influence on the overall analysis.\n",
    "    \n",
    "**Outlier encoding:**\n",
    "\n",
    "Creating a new column to flag outliers allows us to treat them as distinct entities during analysis. This method enables us to retain outliers and leverage the information they provide, which can be beneficial in certain machine learning algorithms or statistical models."
   ]
  },
  {
   "cell_type": "code",
   "execution_count": 34,
   "metadata": {},
   "outputs": [],
   "source": [
    "new_df['outlier_flag'] = (np.abs(stats.zscore(new_df['Quantity']))>= 3).astype(int)"
   ]
  },
  {
   "cell_type": "code",
   "execution_count": 35,
   "metadata": {},
   "outputs": [
    {
     "data": {
      "text/html": [
       "<div>\n",
       "<style scoped>\n",
       "    .dataframe tbody tr th:only-of-type {\n",
       "        vertical-align: middle;\n",
       "    }\n",
       "\n",
       "    .dataframe tbody tr th {\n",
       "        vertical-align: top;\n",
       "    }\n",
       "\n",
       "    .dataframe thead th {\n",
       "        text-align: right;\n",
       "    }\n",
       "</style>\n",
       "<table border=\"1\" class=\"dataframe\">\n",
       "  <thead>\n",
       "    <tr style=\"text-align: right;\">\n",
       "      <th></th>\n",
       "      <th>Line_Item_ID</th>\n",
       "      <th>Order_ID</th>\n",
       "      <th>Order_Date</th>\n",
       "      <th>Product_ID</th>\n",
       "      <th>Quantity</th>\n",
       "      <th>outlier_flag</th>\n",
       "    </tr>\n",
       "  </thead>\n",
       "  <tbody>\n",
       "    <tr>\n",
       "      <th>541</th>\n",
       "      <td>Order 161_HCRIMP05</td>\n",
       "      <td>Order 161</td>\n",
       "      <td>2001-01-01 13:44:47</td>\n",
       "      <td>HCRIMP05</td>\n",
       "      <td>600</td>\n",
       "      <td>1</td>\n",
       "    </tr>\n",
       "    <tr>\n",
       "      <th>542</th>\n",
       "      <td>Order 161_HCRIMP07</td>\n",
       "      <td>Order 161</td>\n",
       "      <td>2001-01-01 13:44:47</td>\n",
       "      <td>HCRIMP07</td>\n",
       "      <td>400</td>\n",
       "      <td>1</td>\n",
       "    </tr>\n",
       "    <tr>\n",
       "      <th>911</th>\n",
       "      <td>Order 286_HCRIMP05</td>\n",
       "      <td>Order 286</td>\n",
       "      <td>2001-01-01 17:08:33</td>\n",
       "      <td>HCRIMP05</td>\n",
       "      <td>2000</td>\n",
       "      <td>1</td>\n",
       "    </tr>\n",
       "    <tr>\n",
       "      <th>1230</th>\n",
       "      <td>Order 404_WP7-08</td>\n",
       "      <td>Order 404</td>\n",
       "      <td>2001-01-01 20:20:27</td>\n",
       "      <td>WP7-08</td>\n",
       "      <td>800</td>\n",
       "      <td>1</td>\n",
       "    </tr>\n",
       "    <tr>\n",
       "      <th>1236</th>\n",
       "      <td>Order 404_WPT-08</td>\n",
       "      <td>Order 404</td>\n",
       "      <td>2001-01-01 20:20:27</td>\n",
       "      <td>WPT-08</td>\n",
       "      <td>400</td>\n",
       "      <td>1</td>\n",
       "    </tr>\n",
       "    <tr>\n",
       "      <th>...</th>\n",
       "      <td>...</td>\n",
       "      <td>...</td>\n",
       "      <td>...</td>\n",
       "      <td>...</td>\n",
       "      <td>...</td>\n",
       "      <td>...</td>\n",
       "    </tr>\n",
       "    <tr>\n",
       "      <th>3576666</th>\n",
       "      <td>Order 1204676_EPCR0012</td>\n",
       "      <td>Order 1204676</td>\n",
       "      <td>2003-12-31 17:10:42</td>\n",
       "      <td>EPCR0012</td>\n",
       "      <td>800</td>\n",
       "      <td>1</td>\n",
       "    </tr>\n",
       "    <tr>\n",
       "      <th>3576745</th>\n",
       "      <td>Order 1204697_Q4690512</td>\n",
       "      <td>Order 1204697</td>\n",
       "      <td>2003-12-31 17:26:50</td>\n",
       "      <td>Q4690512</td>\n",
       "      <td>400</td>\n",
       "      <td>1</td>\n",
       "    </tr>\n",
       "    <tr>\n",
       "      <th>3576840</th>\n",
       "      <td>Order 1204734_31272</td>\n",
       "      <td>Order 1204734</td>\n",
       "      <td>2003-12-31 17:57:16</td>\n",
       "      <td>31272</td>\n",
       "      <td>400</td>\n",
       "      <td>1</td>\n",
       "    </tr>\n",
       "    <tr>\n",
       "      <th>3576949</th>\n",
       "      <td>Order 1204773_Q4690512</td>\n",
       "      <td>Order 1204773</td>\n",
       "      <td>2003-12-31 18:46:18</td>\n",
       "      <td>Q4690512</td>\n",
       "      <td>400</td>\n",
       "      <td>1</td>\n",
       "    </tr>\n",
       "    <tr>\n",
       "      <th>3577271</th>\n",
       "      <td>Order 1204889_11B0050</td>\n",
       "      <td>Order 1204889</td>\n",
       "      <td>2003-12-31 21:25:34</td>\n",
       "      <td>11B0050</td>\n",
       "      <td>800</td>\n",
       "      <td>1</td>\n",
       "    </tr>\n",
       "  </tbody>\n",
       "</table>\n",
       "<p>19132 rows × 6 columns</p>\n",
       "</div>"
      ],
      "text/plain": [
       "                   Line_Item_ID       Order_ID          Order_Date Product_ID  \\\n",
       "541          Order 161_HCRIMP05      Order 161 2001-01-01 13:44:47   HCRIMP05   \n",
       "542          Order 161_HCRIMP07      Order 161 2001-01-01 13:44:47   HCRIMP07   \n",
       "911          Order 286_HCRIMP05      Order 286 2001-01-01 17:08:33   HCRIMP05   \n",
       "1230           Order 404_WP7-08      Order 404 2001-01-01 20:20:27     WP7-08   \n",
       "1236           Order 404_WPT-08      Order 404 2001-01-01 20:20:27     WPT-08   \n",
       "...                         ...            ...                 ...        ...   \n",
       "3576666  Order 1204676_EPCR0012  Order 1204676 2003-12-31 17:10:42   EPCR0012   \n",
       "3576745  Order 1204697_Q4690512  Order 1204697 2003-12-31 17:26:50   Q4690512   \n",
       "3576840     Order 1204734_31272  Order 1204734 2003-12-31 17:57:16      31272   \n",
       "3576949  Order 1204773_Q4690512  Order 1204773 2003-12-31 18:46:18   Q4690512   \n",
       "3577271   Order 1204889_11B0050  Order 1204889 2003-12-31 21:25:34    11B0050   \n",
       "\n",
       "         Quantity  outlier_flag  \n",
       "541           600             1  \n",
       "542           400             1  \n",
       "911          2000             1  \n",
       "1230          800             1  \n",
       "1236          400             1  \n",
       "...           ...           ...  \n",
       "3576666       800             1  \n",
       "3576745       400             1  \n",
       "3576840       400             1  \n",
       "3576949       400             1  \n",
       "3577271       800             1  \n",
       "\n",
       "[19132 rows x 6 columns]"
      ]
     },
     "execution_count": 35,
     "metadata": {},
     "output_type": "execute_result"
    }
   ],
   "source": [
    "new_df[new_df['outlier_flag']==1]"
   ]
  },
  {
   "cell_type": "code",
   "execution_count": 36,
   "metadata": {},
   "outputs": [],
   "source": [
    "data=new_df.drop(columns=['Line_Item_ID','Order_ID'])"
   ]
  },
  {
   "cell_type": "markdown",
   "metadata": {},
   "source": [
    "**Our objective is to project three key values:** 'item\\_id', 'quantity', and the outlier flag, indicating whether an order is an outlier or not. For this purpose, we will utilize a multi-output regression model, which is suitable for handling multiple target variables.\n",
    "To enhance the performance and efficiency of our regression model, we will employ label encoding to convert the categorical 'item\\_id' into numerical values. Label encoding facilitates easier computation and improves the model's overall speed. We have utilized the LabelEncoder module to achieve this transformation.\n",
    "\n",
    "With the categorical data encoded numerically and the target variables defined, we are now equipped to proceed with the multi-output regression analysis."
   ]
  },
  {
   "cell_type": "code",
   "execution_count": 38,
   "metadata": {},
   "outputs": [],
   "source": [
    "from sklearn.preprocessing import LabelEncoder\n",
    "import tensorflow as tf"
   ]
  },
  {
   "cell_type": "code",
   "execution_count": 39,
   "metadata": {},
   "outputs": [],
   "source": [
    "le = LabelEncoder()\n",
    "data['Product_ID_encoded'] = le.fit_transform(data['Product_ID'])"
   ]
  },
  {
   "cell_type": "code",
   "execution_count": 40,
   "metadata": {},
   "outputs": [
    {
     "data": {
      "text/html": [
       "<div>\n",
       "<style scoped>\n",
       "    .dataframe tbody tr th:only-of-type {\n",
       "        vertical-align: middle;\n",
       "    }\n",
       "\n",
       "    .dataframe tbody tr th {\n",
       "        vertical-align: top;\n",
       "    }\n",
       "\n",
       "    .dataframe thead th {\n",
       "        text-align: right;\n",
       "    }\n",
       "</style>\n",
       "<table border=\"1\" class=\"dataframe\">\n",
       "  <thead>\n",
       "    <tr style=\"text-align: right;\">\n",
       "      <th></th>\n",
       "      <th>Product_ID</th>\n",
       "      <th>Quantity</th>\n",
       "      <th>outlier_flag</th>\n",
       "      <th>Product_ID_encoded</th>\n",
       "    </tr>\n",
       "    <tr>\n",
       "      <th>Order_Date</th>\n",
       "      <th></th>\n",
       "      <th></th>\n",
       "      <th></th>\n",
       "      <th></th>\n",
       "    </tr>\n",
       "  </thead>\n",
       "  <tbody>\n",
       "    <tr>\n",
       "      <th>2001-01-01 00:00:57</th>\n",
       "      <td>0794070</td>\n",
       "      <td>4</td>\n",
       "      <td>0</td>\n",
       "      <td>2429</td>\n",
       "    </tr>\n",
       "    <tr>\n",
       "      <th>2001-01-01 00:00:57</th>\n",
       "      <td>T87K1007</td>\n",
       "      <td>20</td>\n",
       "      <td>0</td>\n",
       "      <td>58438</td>\n",
       "    </tr>\n",
       "    <tr>\n",
       "      <th>2001-01-01 00:07:43</th>\n",
       "      <td>427-015</td>\n",
       "      <td>6</td>\n",
       "      <td>0</td>\n",
       "      <td>18658</td>\n",
       "    </tr>\n",
       "    <tr>\n",
       "      <th>2001-01-01 00:07:43</th>\n",
       "      <td>427-020</td>\n",
       "      <td>20</td>\n",
       "      <td>0</td>\n",
       "      <td>18659</td>\n",
       "    </tr>\n",
       "    <tr>\n",
       "      <th>2001-01-01 00:07:43</th>\n",
       "      <td>429-420</td>\n",
       "      <td>2</td>\n",
       "      <td>0</td>\n",
       "      <td>18748</td>\n",
       "    </tr>\n",
       "  </tbody>\n",
       "</table>\n",
       "</div>"
      ],
      "text/plain": [
       "                    Product_ID  Quantity  outlier_flag  Product_ID_encoded\n",
       "Order_Date                                                                \n",
       "2001-01-01 00:00:57    0794070         4             0                2429\n",
       "2001-01-01 00:00:57   T87K1007        20             0               58438\n",
       "2001-01-01 00:07:43    427-015         6             0               18658\n",
       "2001-01-01 00:07:43    427-020        20             0               18659\n",
       "2001-01-01 00:07:43    429-420         2             0               18748"
      ]
     },
     "execution_count": 40,
     "metadata": {},
     "output_type": "execute_result"
    }
   ],
   "source": [
    "data.set_index('Order_Date',inplace=True)\n",
    "data.head()"
   ]
  },
  {
   "cell_type": "code",
   "execution_count": 41,
   "metadata": {},
   "outputs": [],
   "source": [
    "data_encoding=data[['Product_ID','Product_ID_encoded']].reset_index()\n",
    "data_encoding.drop(columns='Order_Date',inplace=True)"
   ]
  },
  {
   "cell_type": "code",
   "execution_count": 42,
   "metadata": {},
   "outputs": [
    {
     "data": {
      "text/html": [
       "<div>\n",
       "<style scoped>\n",
       "    .dataframe tbody tr th:only-of-type {\n",
       "        vertical-align: middle;\n",
       "    }\n",
       "\n",
       "    .dataframe tbody tr th {\n",
       "        vertical-align: top;\n",
       "    }\n",
       "\n",
       "    .dataframe thead th {\n",
       "        text-align: right;\n",
       "    }\n",
       "</style>\n",
       "<table border=\"1\" class=\"dataframe\">\n",
       "  <thead>\n",
       "    <tr style=\"text-align: right;\">\n",
       "      <th></th>\n",
       "      <th>Quantity</th>\n",
       "      <th>outlier_flag</th>\n",
       "      <th>Product_ID_encoded</th>\n",
       "    </tr>\n",
       "    <tr>\n",
       "      <th>Order_Date</th>\n",
       "      <th></th>\n",
       "      <th></th>\n",
       "      <th></th>\n",
       "    </tr>\n",
       "  </thead>\n",
       "  <tbody>\n",
       "    <tr>\n",
       "      <th>2001-01-01 00:00:57</th>\n",
       "      <td>4</td>\n",
       "      <td>0</td>\n",
       "      <td>2429</td>\n",
       "    </tr>\n",
       "    <tr>\n",
       "      <th>2001-01-01 00:00:57</th>\n",
       "      <td>20</td>\n",
       "      <td>0</td>\n",
       "      <td>58438</td>\n",
       "    </tr>\n",
       "    <tr>\n",
       "      <th>2001-01-01 00:07:43</th>\n",
       "      <td>6</td>\n",
       "      <td>0</td>\n",
       "      <td>18658</td>\n",
       "    </tr>\n",
       "    <tr>\n",
       "      <th>2001-01-01 00:07:43</th>\n",
       "      <td>20</td>\n",
       "      <td>0</td>\n",
       "      <td>18659</td>\n",
       "    </tr>\n",
       "    <tr>\n",
       "      <th>2001-01-01 00:07:43</th>\n",
       "      <td>2</td>\n",
       "      <td>0</td>\n",
       "      <td>18748</td>\n",
       "    </tr>\n",
       "  </tbody>\n",
       "</table>\n",
       "</div>"
      ],
      "text/plain": [
       "                     Quantity  outlier_flag  Product_ID_encoded\n",
       "Order_Date                                                     \n",
       "2001-01-01 00:00:57         4             0                2429\n",
       "2001-01-01 00:00:57        20             0               58438\n",
       "2001-01-01 00:07:43         6             0               18658\n",
       "2001-01-01 00:07:43        20             0               18659\n",
       "2001-01-01 00:07:43         2             0               18748"
      ]
     },
     "execution_count": 42,
     "metadata": {},
     "output_type": "execute_result"
    }
   ],
   "source": [
    "data.drop(columns='Product_ID',inplace=True)\n",
    "data.head()"
   ]
  },
  {
   "cell_type": "code",
   "execution_count": 43,
   "metadata": {},
   "outputs": [
    {
     "data": {
      "text/plain": [
       "Product_ID_encoded\n",
       "53632    14808\n",
       "44918    13120\n",
       "53634    11602\n",
       "44922    11360\n",
       "45456    10620\n",
       "         ...  \n",
       "32411        1\n",
       "47723        1\n",
       "17872        1\n",
       "15198        1\n",
       "25026        1\n",
       "Name: count, Length: 63244, dtype: int64"
      ]
     },
     "execution_count": 43,
     "metadata": {},
     "output_type": "execute_result"
    }
   ],
   "source": [
    "data['Product_ID_encoded'].value_counts()"
   ]
  },
  {
   "cell_type": "markdown",
   "metadata": {},
   "source": [
    "we can see that each 63244 product_ids are now mapped to a unique integer "
   ]
  },
  {
   "cell_type": "code",
   "execution_count": 44,
   "metadata": {},
   "outputs": [
    {
     "data": {
      "text/plain": [
       "Quantity              int64\n",
       "outlier_flag          int64\n",
       "Product_ID_encoded    int64\n",
       "dtype: object"
      ]
     },
     "execution_count": 44,
     "metadata": {},
     "output_type": "execute_result"
    }
   ],
   "source": [
    "data.dtypes"
   ]
  },
  {
   "cell_type": "markdown",
   "metadata": {},
   "source": [
    "# 3 - Feature engineering - feature extraction"
   ]
  },
  {
   "cell_type": "code",
   "execution_count": 45,
   "metadata": {},
   "outputs": [],
   "source": [
    "def create_features(df):\n",
    "    \"\"\"\n",
    "    Create time series features based on time series index.\n",
    "    \"\"\"\n",
    "    df['day'] = df.index.day\n",
    "    df['month'] = df.index.month\n",
    "    df ['quarter'] = df.index.quarter\n",
    "    df['year'] = df.index.year\n",
    "    \n",
    "    return df\n",
    "\n",
    "data = create_features(data)"
   ]
  },
  {
   "cell_type": "code",
   "execution_count": 46,
   "metadata": {},
   "outputs": [
    {
     "data": {
      "text/html": [
       "<div>\n",
       "<style scoped>\n",
       "    .dataframe tbody tr th:only-of-type {\n",
       "        vertical-align: middle;\n",
       "    }\n",
       "\n",
       "    .dataframe tbody tr th {\n",
       "        vertical-align: top;\n",
       "    }\n",
       "\n",
       "    .dataframe thead th {\n",
       "        text-align: right;\n",
       "    }\n",
       "</style>\n",
       "<table border=\"1\" class=\"dataframe\">\n",
       "  <thead>\n",
       "    <tr style=\"text-align: right;\">\n",
       "      <th></th>\n",
       "      <th>Quantity</th>\n",
       "      <th>outlier_flag</th>\n",
       "      <th>Product_ID_encoded</th>\n",
       "      <th>day</th>\n",
       "      <th>month</th>\n",
       "      <th>quarter</th>\n",
       "      <th>year</th>\n",
       "    </tr>\n",
       "    <tr>\n",
       "      <th>Order_Date</th>\n",
       "      <th></th>\n",
       "      <th></th>\n",
       "      <th></th>\n",
       "      <th></th>\n",
       "      <th></th>\n",
       "      <th></th>\n",
       "      <th></th>\n",
       "    </tr>\n",
       "  </thead>\n",
       "  <tbody>\n",
       "    <tr>\n",
       "      <th>2001-01-01 00:00:57</th>\n",
       "      <td>4</td>\n",
       "      <td>0</td>\n",
       "      <td>2429</td>\n",
       "      <td>1</td>\n",
       "      <td>1</td>\n",
       "      <td>1</td>\n",
       "      <td>2001</td>\n",
       "    </tr>\n",
       "    <tr>\n",
       "      <th>2001-01-01 00:00:57</th>\n",
       "      <td>20</td>\n",
       "      <td>0</td>\n",
       "      <td>58438</td>\n",
       "      <td>1</td>\n",
       "      <td>1</td>\n",
       "      <td>1</td>\n",
       "      <td>2001</td>\n",
       "    </tr>\n",
       "    <tr>\n",
       "      <th>2001-01-01 00:07:43</th>\n",
       "      <td>6</td>\n",
       "      <td>0</td>\n",
       "      <td>18658</td>\n",
       "      <td>1</td>\n",
       "      <td>1</td>\n",
       "      <td>1</td>\n",
       "      <td>2001</td>\n",
       "    </tr>\n",
       "    <tr>\n",
       "      <th>2001-01-01 00:07:43</th>\n",
       "      <td>20</td>\n",
       "      <td>0</td>\n",
       "      <td>18659</td>\n",
       "      <td>1</td>\n",
       "      <td>1</td>\n",
       "      <td>1</td>\n",
       "      <td>2001</td>\n",
       "    </tr>\n",
       "    <tr>\n",
       "      <th>2001-01-01 00:07:43</th>\n",
       "      <td>2</td>\n",
       "      <td>0</td>\n",
       "      <td>18748</td>\n",
       "      <td>1</td>\n",
       "      <td>1</td>\n",
       "      <td>1</td>\n",
       "      <td>2001</td>\n",
       "    </tr>\n",
       "  </tbody>\n",
       "</table>\n",
       "</div>"
      ],
      "text/plain": [
       "                     Quantity  outlier_flag  Product_ID_encoded  day  month  \\\n",
       "Order_Date                                                                    \n",
       "2001-01-01 00:00:57         4             0                2429    1      1   \n",
       "2001-01-01 00:00:57        20             0               58438    1      1   \n",
       "2001-01-01 00:07:43         6             0               18658    1      1   \n",
       "2001-01-01 00:07:43        20             0               18659    1      1   \n",
       "2001-01-01 00:07:43         2             0               18748    1      1   \n",
       "\n",
       "                     quarter  year  \n",
       "Order_Date                          \n",
       "2001-01-01 00:00:57        1  2001  \n",
       "2001-01-01 00:00:57        1  2001  \n",
       "2001-01-01 00:07:43        1  2001  \n",
       "2001-01-01 00:07:43        1  2001  \n",
       "2001-01-01 00:07:43        1  2001  "
      ]
     },
     "execution_count": 46,
     "metadata": {},
     "output_type": "execute_result"
    }
   ],
   "source": [
    "data.head()"
   ]
  },
  {
   "cell_type": "markdown",
   "metadata": {},
   "source": [
    "# 4 - Regression Model"
   ]
  },
  {
   "cell_type": "markdown",
   "metadata": {},
   "source": [
    "creating Training and Target arrays to feed to the model"
   ]
  },
  {
   "cell_type": "code",
   "execution_count": 47,
   "metadata": {},
   "outputs": [],
   "source": [
    "X=np.array((data['day'],data['month'],data['quarter'],data['year'])).T"
   ]
  },
  {
   "cell_type": "code",
   "execution_count": 49,
   "metadata": {},
   "outputs": [
    {
     "data": {
      "text/plain": [
       "(3577560, 4)"
      ]
     },
     "execution_count": 49,
     "metadata": {},
     "output_type": "execute_result"
    }
   ],
   "source": [
    "X.shape"
   ]
  },
  {
   "cell_type": "code",
   "execution_count": 48,
   "metadata": {},
   "outputs": [],
   "source": [
    "y=np.array((data['Product_ID_encoded'],data['Quantity'],data['outlier_flag'])).T"
   ]
  },
  {
   "cell_type": "code",
   "execution_count": 50,
   "metadata": {},
   "outputs": [
    {
     "data": {
      "text/plain": [
       "(3577560, 3)"
      ]
     },
     "execution_count": 50,
     "metadata": {},
     "output_type": "execute_result"
    }
   ],
   "source": [
    "y.shape"
   ]
  },
  {
   "cell_type": "markdown",
   "metadata": {},
   "source": [
    "### 4 - 1 - Train/Test Split"
   ]
  },
  {
   "cell_type": "code",
   "execution_count": 51,
   "metadata": {},
   "outputs": [],
   "source": [
    "from sklearn.model_selection import train_test_split\n",
    "\n",
    "# Define the test size, e.g., 20% of the data\n",
    "test_size = 0.2\n",
    "\n",
    "# Split the X and y data into training and testing sets\n",
    "X_train, X_test, y_train, y_test = train_test_split(X, y, test_size=test_size)\n"
   ]
  },
  {
   "cell_type": "markdown",
   "metadata": {},
   "source": [
    "creating model instance and fitting"
   ]
  },
  {
   "cell_type": "markdown",
   "metadata": {},
   "source": [
    "The Random Forest Regressor is a learning method that operates by constructing multiple decision trees at training time and outputting the mean of the classes (classification) or mean prediction of the individual trees (regression). This technique helps reduce overfitting and improve generalization capabilities, as it combines predictions from multiple models and can capture non-linear relationships between features and targets."
   ]
  },
  {
   "cell_type": "markdown",
   "metadata": {},
   "source": [
    "To build the model, I have initialized the RandomForestRegressor class and fitted the model. This trains the Random Forest Regressor model on your multi-output regression task, enabling it to learn the underlying patterns and relationships within the data."
   ]
  },
  {
   "cell_type": "code",
   "execution_count": 60,
   "metadata": {},
   "outputs": [],
   "source": [
    "from sklearn.ensemble import RandomForestRegressor\n",
    "# Define parameters\n",
    "#n_estimators = 350          # Increase the number of trees in the forest\n",
    "#max_depth = 10            # Let the model decide the depth of the trees\n",
    "#min_samples_split = 10      # Increase the minimum number of samples required to split an internal node\n",
    "#min_samples_leaf = 2        # Increase the minimum number of samples required to be at a leaf node\n",
    "\n",
    "\n",
    "# Initialize RandomForestRegressor with the defined parameters\n",
    "rdregressor = RandomForestRegressor()"
   ]
  },
  {
   "cell_type": "code",
   "execution_count": 61,
   "metadata": {},
   "outputs": [],
   "source": [
    "rdregressor.fit(X_train,y_train)\n"
   ]
  },
  {
   "cell_type": "markdown",
   "metadata": {},
   "source": [
    "sample test data"
   ]
  },
  {
   "cell_type": "code",
   "execution_count": 53,
   "metadata": {},
   "outputs": [],
   "source": [
    "test_data=[[ 3, 4,  1, 2001]]"
   ]
  },
  {
   "cell_type": "markdown",
   "metadata": {},
   "source": [
    "make prediction on sample tes data"
   ]
  },
  {
   "cell_type": "code",
   "execution_count": 54,
   "metadata": {},
   "outputs": [
    {
     "data": {
      "text/plain": [
       "array([[37076,    23,     0]])"
      ]
     },
     "execution_count": 54,
     "metadata": {},
     "output_type": "execute_result"
    }
   ],
   "source": [
    "rdregressor.predict(test_data).astype(int)"
   ]
  },
  {
   "cell_type": "markdown",
   "metadata": {},
   "source": [
    "Now that I trained the model, I will check the performance, lets import some metrics:"
   ]
  },
  {
   "cell_type": "code",
   "execution_count": 55,
   "metadata": {},
   "outputs": [
    {
     "name": "stdout",
     "output_type": "stream",
     "text": [
      "Target variable 1\n",
      "Mean Squared Error (MSE): 339022970.48936784\n",
      "Mean Absolute Error (MAE): 15929.512989119978\n",
      "R-squared (R²): 0.01270042677057348\n",
      "\n",
      "Target variable 2\n",
      "Mean Squared Error (MSE): 9897.160338594005\n",
      "Mean Absolute Error (MAE): 22.520867206160972\n",
      "R-squared (R²): 0.0005980732014453372\n",
      "\n",
      "Target variable 3\n",
      "Mean Squared Error (MSE): 0.0053234260409585924\n",
      "Mean Absolute Error (MAE): 0.010631564249676033\n",
      "R-squared (R²): 0.00039701374752232343\n",
      "\n"
     ]
    }
   ],
   "source": [
    "from sklearn.metrics import mean_squared_error, mean_absolute_error, r2_score\n",
    "\n",
    "# Predict the target values for the test set\n",
    "y_pred = rdregressor.predict(X_test)\n",
    "\n",
    "for i in range(3):\n",
    "    # Compute and print the evaluation metrics for each target variable\n",
    "    print(\"Target variable\", i+1)\n",
    "    print(\"Mean Squared Error (MSE):\", mean_squared_error(y_test[:, i], y_pred[:, i]))\n",
    "    print(\"Mean Absolute Error (MAE):\", mean_absolute_error(y_test[:, i], y_pred[:, i]))\n",
    "    print(\"R-squared (R²):\", r2_score(y_test[:, i], y_pred[:, i]))\n",
    "    print()"
   ]
  },
  {
   "cell_type": "markdown",
   "metadata": {},
   "source": [
    "Now that we've run the model on the test set and generated performance metrics, a few important points should be noted. Fine-tuning the model can be time-consuming, as it requires running the model multiple times with different hyperparameters to find the best possible outcome. Additionally, since we are projecting three variables based on only four features (which may not be entirely independent), the model might exhibit some weaknesses. In this case, it would be beneficial to utilize more advanced feature engineering techniques, such as grouping products, regions, and zones, to extract more meaningful information from the data.\n",
    "\n",
    "Furthermore, it is essential to consider the trade-off between model complexity and performance. A more complex model might overfit the training data, resulting in poor generalization to unseen data. Regularization techniques, cross-validation, and pruning can help alleviate overfitting issues and improve model performance.\n",
    "\n",
    "Lastly, exploring alternative models or ensemble methods could potentially yield better results. This could involve experimenting with various regression models, or utilizing techniques such as bootstrapping or bagging to combine the strengths of multiple models. The ultimate goal is to find the best model that can accurately predict the target variables without sacrificing generalization ability.\n"
   ]
  },
  {
   "cell_type": "markdown",
   "metadata": {},
   "source": [
    "Defining a function to create a (near) empty data frame which will be filled with next years projcetions"
   ]
  },
  {
   "cell_type": "code",
   "execution_count": 44,
   "metadata": {},
   "outputs": [],
   "source": [
    "def create_projection_df(year):\n",
    "  days = pd.date_range(start=f\"{year}-01-01\", end=f\"{year}-12-31\")\n",
    "  df = pd.DataFrame({'day': days.day,\n",
    "                     'month': days.month,\n",
    "                     'quarter': days.quarter,\n",
    "                     'year': days.year})\n",
    "  return df\n",
    "\n"
   ]
  },
  {
   "cell_type": "code",
   "execution_count": 45,
   "metadata": {},
   "outputs": [],
   "source": [
    "# Create the projection DataFrame\n",
    "projection_df = create_projection_df(2004)"
   ]
  },
  {
   "cell_type": "code",
   "execution_count": 46,
   "metadata": {},
   "outputs": [
    {
     "data": {
      "text/html": [
       "<div>\n",
       "<style scoped>\n",
       "    .dataframe tbody tr th:only-of-type {\n",
       "        vertical-align: middle;\n",
       "    }\n",
       "\n",
       "    .dataframe tbody tr th {\n",
       "        vertical-align: top;\n",
       "    }\n",
       "\n",
       "    .dataframe thead th {\n",
       "        text-align: right;\n",
       "    }\n",
       "</style>\n",
       "<table border=\"1\" class=\"dataframe\">\n",
       "  <thead>\n",
       "    <tr style=\"text-align: right;\">\n",
       "      <th></th>\n",
       "      <th>day</th>\n",
       "      <th>month</th>\n",
       "      <th>quarter</th>\n",
       "      <th>year</th>\n",
       "    </tr>\n",
       "  </thead>\n",
       "  <tbody>\n",
       "    <tr>\n",
       "      <th>0</th>\n",
       "      <td>1</td>\n",
       "      <td>1</td>\n",
       "      <td>1</td>\n",
       "      <td>2004</td>\n",
       "    </tr>\n",
       "    <tr>\n",
       "      <th>1</th>\n",
       "      <td>2</td>\n",
       "      <td>1</td>\n",
       "      <td>1</td>\n",
       "      <td>2004</td>\n",
       "    </tr>\n",
       "    <tr>\n",
       "      <th>2</th>\n",
       "      <td>3</td>\n",
       "      <td>1</td>\n",
       "      <td>1</td>\n",
       "      <td>2004</td>\n",
       "    </tr>\n",
       "    <tr>\n",
       "      <th>3</th>\n",
       "      <td>4</td>\n",
       "      <td>1</td>\n",
       "      <td>1</td>\n",
       "      <td>2004</td>\n",
       "    </tr>\n",
       "    <tr>\n",
       "      <th>4</th>\n",
       "      <td>5</td>\n",
       "      <td>1</td>\n",
       "      <td>1</td>\n",
       "      <td>2004</td>\n",
       "    </tr>\n",
       "  </tbody>\n",
       "</table>\n",
       "</div>"
      ],
      "text/plain": [
       "   day  month  quarter  year\n",
       "0    1      1        1  2004\n",
       "1    2      1        1  2004\n",
       "2    3      1        1  2004\n",
       "3    4      1        1  2004\n",
       "4    5      1        1  2004"
      ]
     },
     "execution_count": 46,
     "metadata": {},
     "output_type": "execute_result"
    }
   ],
   "source": [
    "projection_df.head()"
   ]
  },
  {
   "cell_type": "markdown",
   "metadata": {},
   "source": [
    "Make prediction for the year 2004"
   ]
  },
  {
   "cell_type": "code",
   "execution_count": 47,
   "metadata": {},
   "outputs": [],
   "source": [
    "# Make predictions\n",
    "predictions = rdregressor.predict(projection_df[['day', 'month', 'quarter', 'year']]).astype(int)\n"
   ]
  },
  {
   "cell_type": "markdown",
   "metadata": {},
   "source": [
    "reverting back the encoded product_id, and filling the dataframe"
   ]
  },
  {
   "cell_type": "code",
   "execution_count": 62,
   "metadata": {},
   "outputs": [],
   "source": [
    "# Add predictions to the projection DataFrame\n",
    "projection_df['Predicted_Quantity'] = predictions[:, 1].astype(int)\n",
    "projection_df['Predicted_Product_ID'] = le.inverse_transform(predictions[:, 0].astype(int))\n",
    "projection_df['Projected_outlier_flag'] = predictions[:, 2].astype(int)"
   ]
  },
  {
   "cell_type": "code",
   "execution_count": 63,
   "metadata": {},
   "outputs": [
    {
     "data": {
      "text/html": [
       "<div>\n",
       "<style scoped>\n",
       "    .dataframe tbody tr th:only-of-type {\n",
       "        vertical-align: middle;\n",
       "    }\n",
       "\n",
       "    .dataframe tbody tr th {\n",
       "        vertical-align: top;\n",
       "    }\n",
       "\n",
       "    .dataframe thead th {\n",
       "        text-align: right;\n",
       "    }\n",
       "</style>\n",
       "<table border=\"1\" class=\"dataframe\">\n",
       "  <thead>\n",
       "    <tr style=\"text-align: right;\">\n",
       "      <th></th>\n",
       "      <th>day</th>\n",
       "      <th>month</th>\n",
       "      <th>quarter</th>\n",
       "      <th>year</th>\n",
       "      <th>Predicted_Quantity</th>\n",
       "      <th>Predicted_Product_ID</th>\n",
       "    </tr>\n",
       "  </thead>\n",
       "  <tbody>\n",
       "    <tr>\n",
       "      <th>0</th>\n",
       "      <td>1</td>\n",
       "      <td>1</td>\n",
       "      <td>1</td>\n",
       "      <td>2004</td>\n",
       "      <td>13</td>\n",
       "      <td>AFRB24-SR</td>\n",
       "    </tr>\n",
       "    <tr>\n",
       "      <th>1</th>\n",
       "      <td>2</td>\n",
       "      <td>1</td>\n",
       "      <td>1</td>\n",
       "      <td>2004</td>\n",
       "      <td>11</td>\n",
       "      <td>ARE37C3E-IAA-959</td>\n",
       "    </tr>\n",
       "    <tr>\n",
       "      <th>2</th>\n",
       "      <td>3</td>\n",
       "      <td>1</td>\n",
       "      <td>1</td>\n",
       "      <td>2004</td>\n",
       "      <td>11</td>\n",
       "      <td>A91286</td>\n",
       "    </tr>\n",
       "    <tr>\n",
       "      <th>3</th>\n",
       "      <td>4</td>\n",
       "      <td>1</td>\n",
       "      <td>1</td>\n",
       "      <td>2004</td>\n",
       "      <td>14</td>\n",
       "      <td>AM102C-1LF</td>\n",
       "    </tr>\n",
       "    <tr>\n",
       "      <th>4</th>\n",
       "      <td>5</td>\n",
       "      <td>1</td>\n",
       "      <td>1</td>\n",
       "      <td>2004</td>\n",
       "      <td>13</td>\n",
       "      <td>ARUF48D14</td>\n",
       "    </tr>\n",
       "  </tbody>\n",
       "</table>\n",
       "</div>"
      ],
      "text/plain": [
       "   day  month  quarter  year  Predicted_Quantity Predicted_Product_ID\n",
       "0    1      1        1  2004                  13            AFRB24-SR\n",
       "1    2      1        1  2004                  11     ARE37C3E-IAA-959\n",
       "2    3      1        1  2004                  11               A91286\n",
       "3    4      1        1  2004                  14           AM102C-1LF\n",
       "4    5      1        1  2004                  13            ARUF48D14"
      ]
     },
     "execution_count": 63,
     "metadata": {},
     "output_type": "execute_result"
    }
   ],
   "source": [
    "projection_df.head()"
   ]
  }
 ],
 "metadata": {
  "kernelspec": {
   "display_name": "eda",
   "language": "python",
   "name": "python3"
  },
  "language_info": {
   "codemirror_mode": {
    "name": "ipython",
    "version": 3
   },
   "file_extension": ".py",
   "mimetype": "text/x-python",
   "name": "python",
   "nbconvert_exporter": "python",
   "pygments_lexer": "ipython3",
   "version": "3.12.3"
  }
 },
 "nbformat": 4,
 "nbformat_minor": 2
}
